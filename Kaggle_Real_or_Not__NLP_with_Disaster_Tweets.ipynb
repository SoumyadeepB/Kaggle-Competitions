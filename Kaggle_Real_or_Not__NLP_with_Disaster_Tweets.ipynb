{
  "nbformat": 4,
  "nbformat_minor": 0,
  "metadata": {
    "colab": {
      "name": "Kaggle Real or Not? NLP with Disaster Tweets",
      "provenance": [],
      "collapsed_sections": []
    },
    "kernelspec": {
      "name": "python3",
      "display_name": "Python 3"
    },
    "accelerator": "GPU"
  },
  "cells": [
    {
      "cell_type": "code",
      "metadata": {
        "id": "ceQ754B36oem",
        "outputId": "18c44a68-157a-40a5-e8bd-b7a26ceeddda",
        "colab": {
          "base_uri": "https://localhost:8080/"
        }
      },
      "source": [
        "from google.colab import drive\n",
        "drive.mount('/content/gdrive')"
      ],
      "execution_count": 4,
      "outputs": [
        {
          "output_type": "stream",
          "text": [
            "Mounted at /content/gdrive\n"
          ],
          "name": "stdout"
        }
      ]
    },
    {
      "cell_type": "code",
      "metadata": {
        "id": "dywhQ9LC8Sz8"
      },
      "source": [
        "import os\n",
        "os.environ['KAGGLE_CONFIG_DIR'] = \"/content/gdrive/My Drive/Kaggle\""
      ],
      "execution_count": 1,
      "outputs": []
    },
    {
      "cell_type": "code",
      "metadata": {
        "id": "kDlCTVe08YFp",
        "outputId": "e205f2f0-8900-4860-cd82-e0efcf38f975",
        "colab": {
          "base_uri": "https://localhost:8080/",
          "height": 52
        }
      },
      "source": [
        "#changing the working directory\n",
        "%cd /content/gdrive/My Drive/Kaggle\n",
        "%pwd"
      ],
      "execution_count": 5,
      "outputs": [
        {
          "output_type": "stream",
          "text": [
            "/content/gdrive/My Drive/Kaggle\n"
          ],
          "name": "stdout"
        },
        {
          "output_type": "execute_result",
          "data": {
            "application/vnd.google.colaboratory.intrinsic+json": {
              "type": "string"
            },
            "text/plain": [
              "'/content/gdrive/My Drive/Kaggle'"
            ]
          },
          "metadata": {
            "tags": []
          },
          "execution_count": 5
        }
      ]
    },
    {
      "cell_type": "code",
      "metadata": {
        "id": "SCybuCU28yCc",
        "outputId": "a043b798-2022-46d3-aeea-b9c80bd6f0b7",
        "colab": {
          "base_uri": "https://localhost:8080/",
          "height": 34
        }
      },
      "source": [
        "%ls"
      ],
      "execution_count": null,
      "outputs": [
        {
          "output_type": "stream",
          "text": [
            "kaggle.json  sample_submission.csv  test.csv  train.csv\n"
          ],
          "name": "stdout"
        }
      ]
    },
    {
      "cell_type": "code",
      "metadata": {
        "id": "p9Xd-ksFzjwH"
      },
      "source": [
        "import string\n",
        "import numpy as np\n",
        "import pandas as pd\n",
        "import seaborn as sns\n",
        "import matplotlib.pyplot as plt\n",
        "import tensorflow as tf\n",
        "import tensorflow_hub as hub\n",
        "import tensorflow.keras\n",
        "import sklearn\n",
        "from tensorflow.keras import layers\n",
        "from tensorflow.keras import Model\n",
        "from tensorflow.keras.optimizers import SGD, Adam\n",
        "from tensorflow.keras.callbacks import ModelCheckpoint\n",
        "from tensorflow.keras.layers import Dense, Input, Dropout, GlobalAveragePooling1D\n",
        "from wordcloud import WordCloud, STOPWORDS\n"
      ],
      "execution_count": 26,
      "outputs": []
    },
    {
      "cell_type": "markdown",
      "metadata": {
        "id": "0_PIhXt91ME8"
      },
      "source": [
        "### Loading Data:"
      ]
    },
    {
      "cell_type": "code",
      "metadata": {
        "id": "TYDGBVX-1mxW",
        "outputId": "462c8b73-5d31-4f11-93bb-3b12da542f63",
        "colab": {
          "base_uri": "https://localhost:8080/",
          "height": 84
        }
      },
      "source": [
        "#! pip install -q kaggle\n",
        "#! kaggle competitions download -c nlp-getting-started"
      ],
      "execution_count": null,
      "outputs": [
        {
          "output_type": "stream",
          "text": [
            "Warning: Looks like you're using an outdated API Version, please consider updating (server 1.5.9 / client 1.5.4)\n",
            "test.csv: Skipping, found more recently modified local copy (use --force to force download)\n",
            "train.csv: Skipping, found more recently modified local copy (use --force to force download)\n",
            "sample_submission.csv: Skipping, found more recently modified local copy (use --force to force download)\n"
          ],
          "name": "stdout"
        }
      ]
    },
    {
      "cell_type": "code",
      "metadata": {
        "id": "EC416wJ81J_U"
      },
      "source": [
        "train = pd.read_csv(\"train.csv\")\n",
        "test = pd.read_csv(\"test.csv\")\n",
        "sub_sample = pd.read_csv(\"sample_submission.csv\")"
      ],
      "execution_count": 13,
      "outputs": []
    },
    {
      "cell_type": "markdown",
      "metadata": {
        "id": "3VfTBpay9Iop"
      },
      "source": [
        "### Exploring Data:"
      ]
    },
    {
      "cell_type": "code",
      "metadata": {
        "id": "DfhJuQqH9zZM",
        "outputId": "8a25a514-8468-4788-b61b-9f1db1f5b2ff",
        "colab": {
          "base_uri": "https://localhost:8080/",
          "height": 67
        }
      },
      "source": [
        "print(\"-------- Shapes --------\")\n",
        "print(\"Train set:\", train.shape)\n",
        "print(\"Test set:\", test.shape)"
      ],
      "execution_count": null,
      "outputs": [
        {
          "output_type": "stream",
          "text": [
            "-------- Shapes --------\n",
            "Train set: (7613, 5)\n",
            "Test set: (3263, 4)\n"
          ],
          "name": "stdout"
        }
      ]
    },
    {
      "cell_type": "code",
      "metadata": {
        "id": "RYsMk8BY15qU",
        "outputId": "d3f59924-9f81-4794-8770-6956db35418d",
        "colab": {
          "base_uri": "https://localhost:8080/",
          "height": 195
        }
      },
      "source": [
        "train.head()"
      ],
      "execution_count": null,
      "outputs": [
        {
          "output_type": "execute_result",
          "data": {
            "text/html": [
              "<div>\n",
              "<style scoped>\n",
              "    .dataframe tbody tr th:only-of-type {\n",
              "        vertical-align: middle;\n",
              "    }\n",
              "\n",
              "    .dataframe tbody tr th {\n",
              "        vertical-align: top;\n",
              "    }\n",
              "\n",
              "    .dataframe thead th {\n",
              "        text-align: right;\n",
              "    }\n",
              "</style>\n",
              "<table border=\"1\" class=\"dataframe\">\n",
              "  <thead>\n",
              "    <tr style=\"text-align: right;\">\n",
              "      <th></th>\n",
              "      <th>id</th>\n",
              "      <th>keyword</th>\n",
              "      <th>location</th>\n",
              "      <th>text</th>\n",
              "      <th>target</th>\n",
              "    </tr>\n",
              "  </thead>\n",
              "  <tbody>\n",
              "    <tr>\n",
              "      <th>0</th>\n",
              "      <td>1</td>\n",
              "      <td>NaN</td>\n",
              "      <td>NaN</td>\n",
              "      <td>Our Deeds are the Reason of this #earthquake M...</td>\n",
              "      <td>1</td>\n",
              "    </tr>\n",
              "    <tr>\n",
              "      <th>1</th>\n",
              "      <td>4</td>\n",
              "      <td>NaN</td>\n",
              "      <td>NaN</td>\n",
              "      <td>Forest fire near La Ronge Sask. Canada</td>\n",
              "      <td>1</td>\n",
              "    </tr>\n",
              "    <tr>\n",
              "      <th>2</th>\n",
              "      <td>5</td>\n",
              "      <td>NaN</td>\n",
              "      <td>NaN</td>\n",
              "      <td>All residents asked to 'shelter in place' are ...</td>\n",
              "      <td>1</td>\n",
              "    </tr>\n",
              "    <tr>\n",
              "      <th>3</th>\n",
              "      <td>6</td>\n",
              "      <td>NaN</td>\n",
              "      <td>NaN</td>\n",
              "      <td>13,000 people receive #wildfires evacuation or...</td>\n",
              "      <td>1</td>\n",
              "    </tr>\n",
              "    <tr>\n",
              "      <th>4</th>\n",
              "      <td>7</td>\n",
              "      <td>NaN</td>\n",
              "      <td>NaN</td>\n",
              "      <td>Just got sent this photo from Ruby #Alaska as ...</td>\n",
              "      <td>1</td>\n",
              "    </tr>\n",
              "  </tbody>\n",
              "</table>\n",
              "</div>"
            ],
            "text/plain": [
              "   id keyword  ...                                               text target\n",
              "0   1     NaN  ...  Our Deeds are the Reason of this #earthquake M...      1\n",
              "1   4     NaN  ...             Forest fire near La Ronge Sask. Canada      1\n",
              "2   5     NaN  ...  All residents asked to 'shelter in place' are ...      1\n",
              "3   6     NaN  ...  13,000 people receive #wildfires evacuation or...      1\n",
              "4   7     NaN  ...  Just got sent this photo from Ruby #Alaska as ...      1\n",
              "\n",
              "[5 rows x 5 columns]"
            ]
          },
          "metadata": {
            "tags": []
          },
          "execution_count": 8
        }
      ]
    },
    {
      "cell_type": "code",
      "metadata": {
        "id": "nHeuYAqQ1nFB",
        "outputId": "5cefb609-13cf-42b5-84d7-d332f5d63f1a",
        "colab": {
          "base_uri": "https://localhost:8080/",
          "height": 195
        }
      },
      "source": [
        "test.head()"
      ],
      "execution_count": null,
      "outputs": [
        {
          "output_type": "execute_result",
          "data": {
            "text/html": [
              "<div>\n",
              "<style scoped>\n",
              "    .dataframe tbody tr th:only-of-type {\n",
              "        vertical-align: middle;\n",
              "    }\n",
              "\n",
              "    .dataframe tbody tr th {\n",
              "        vertical-align: top;\n",
              "    }\n",
              "\n",
              "    .dataframe thead th {\n",
              "        text-align: right;\n",
              "    }\n",
              "</style>\n",
              "<table border=\"1\" class=\"dataframe\">\n",
              "  <thead>\n",
              "    <tr style=\"text-align: right;\">\n",
              "      <th></th>\n",
              "      <th>id</th>\n",
              "      <th>keyword</th>\n",
              "      <th>location</th>\n",
              "      <th>text</th>\n",
              "    </tr>\n",
              "  </thead>\n",
              "  <tbody>\n",
              "    <tr>\n",
              "      <th>0</th>\n",
              "      <td>0</td>\n",
              "      <td>NaN</td>\n",
              "      <td>NaN</td>\n",
              "      <td>Just happened a terrible car crash</td>\n",
              "    </tr>\n",
              "    <tr>\n",
              "      <th>1</th>\n",
              "      <td>2</td>\n",
              "      <td>NaN</td>\n",
              "      <td>NaN</td>\n",
              "      <td>Heard about #earthquake is different cities, s...</td>\n",
              "    </tr>\n",
              "    <tr>\n",
              "      <th>2</th>\n",
              "      <td>3</td>\n",
              "      <td>NaN</td>\n",
              "      <td>NaN</td>\n",
              "      <td>there is a forest fire at spot pond, geese are...</td>\n",
              "    </tr>\n",
              "    <tr>\n",
              "      <th>3</th>\n",
              "      <td>9</td>\n",
              "      <td>NaN</td>\n",
              "      <td>NaN</td>\n",
              "      <td>Apocalypse lighting. #Spokane #wildfires</td>\n",
              "    </tr>\n",
              "    <tr>\n",
              "      <th>4</th>\n",
              "      <td>11</td>\n",
              "      <td>NaN</td>\n",
              "      <td>NaN</td>\n",
              "      <td>Typhoon Soudelor kills 28 in China and Taiwan</td>\n",
              "    </tr>\n",
              "  </tbody>\n",
              "</table>\n",
              "</div>"
            ],
            "text/plain": [
              "   id keyword location                                               text\n",
              "0   0     NaN      NaN                 Just happened a terrible car crash\n",
              "1   2     NaN      NaN  Heard about #earthquake is different cities, s...\n",
              "2   3     NaN      NaN  there is a forest fire at spot pond, geese are...\n",
              "3   9     NaN      NaN           Apocalypse lighting. #Spokane #wildfires\n",
              "4  11     NaN      NaN      Typhoon Soudelor kills 28 in China and Taiwan"
            ]
          },
          "metadata": {
            "tags": []
          },
          "execution_count": 9
        }
      ]
    },
    {
      "cell_type": "code",
      "metadata": {
        "id": "EFLkI-xZ9nIt",
        "outputId": "e29d91ef-87c0-446f-e896-96cc4a7e3044",
        "colab": {
          "base_uri": "https://localhost:8080/",
          "height": 195
        }
      },
      "source": [
        "sub_sample.head()"
      ],
      "execution_count": null,
      "outputs": [
        {
          "output_type": "execute_result",
          "data": {
            "text/html": [
              "<div>\n",
              "<style scoped>\n",
              "    .dataframe tbody tr th:only-of-type {\n",
              "        vertical-align: middle;\n",
              "    }\n",
              "\n",
              "    .dataframe tbody tr th {\n",
              "        vertical-align: top;\n",
              "    }\n",
              "\n",
              "    .dataframe thead th {\n",
              "        text-align: right;\n",
              "    }\n",
              "</style>\n",
              "<table border=\"1\" class=\"dataframe\">\n",
              "  <thead>\n",
              "    <tr style=\"text-align: right;\">\n",
              "      <th></th>\n",
              "      <th>id</th>\n",
              "      <th>target</th>\n",
              "    </tr>\n",
              "  </thead>\n",
              "  <tbody>\n",
              "    <tr>\n",
              "      <th>0</th>\n",
              "      <td>0</td>\n",
              "      <td>0</td>\n",
              "    </tr>\n",
              "    <tr>\n",
              "      <th>1</th>\n",
              "      <td>2</td>\n",
              "      <td>0</td>\n",
              "    </tr>\n",
              "    <tr>\n",
              "      <th>2</th>\n",
              "      <td>3</td>\n",
              "      <td>0</td>\n",
              "    </tr>\n",
              "    <tr>\n",
              "      <th>3</th>\n",
              "      <td>9</td>\n",
              "      <td>0</td>\n",
              "    </tr>\n",
              "    <tr>\n",
              "      <th>4</th>\n",
              "      <td>11</td>\n",
              "      <td>0</td>\n",
              "    </tr>\n",
              "  </tbody>\n",
              "</table>\n",
              "</div>"
            ],
            "text/plain": [
              "   id  target\n",
              "0   0       0\n",
              "1   2       0\n",
              "2   3       0\n",
              "3   9       0\n",
              "4  11       0"
            ]
          },
          "metadata": {
            "tags": []
          },
          "execution_count": 10
        }
      ]
    },
    {
      "cell_type": "code",
      "metadata": {
        "id": "tr1xMefE9ov5",
        "outputId": "ac492d10-967c-4130-bcf3-16c512502c20",
        "colab": {
          "base_uri": "https://localhost:8080/",
          "height": 34
        }
      },
      "source": [
        "train.duplicated().sum()"
      ],
      "execution_count": null,
      "outputs": [
        {
          "output_type": "execute_result",
          "data": {
            "text/plain": [
              "0"
            ]
          },
          "metadata": {
            "tags": []
          },
          "execution_count": 34
        }
      ]
    },
    {
      "cell_type": "code",
      "metadata": {
        "id": "q3rLWiIH9wfq"
      },
      "source": [
        "train = train.drop_duplicates().reset_index(drop=True)"
      ],
      "execution_count": null,
      "outputs": []
    },
    {
      "cell_type": "code",
      "metadata": {
        "id": "AqGE_xJvB_CC",
        "outputId": "a02976e7-f48c-4a78-d291-fc8fb10ac9a5",
        "colab": {
          "base_uri": "https://localhost:8080/",
          "height": 279
        }
      },
      "source": [
        "#Visualizing class imbalance\n",
        "sns.countplot(y=train.target);"
      ],
      "execution_count": null,
      "outputs": [
        {
          "output_type": "display_data",
          "data": {
            "image/png": "[encoded data removed]",
            "text/plain": [
              "<Figure size 432x288 with 1 Axes>"
            ]
          },
          "metadata": {
            "tags": [],
            "needs_background": "light"
          }
        }
      ]
    },
    {
      "cell_type": "code",
      "metadata": {
        "id": "_-K52LaUB__d",
        "outputId": "68e67666-d161-4653-c0e1-e2fa8c9cc465",
        "colab": {
          "base_uri": "https://localhost:8080/",
          "height": 286
        }
      },
      "source": [
        "print(\"------ Null Values ------\")\n",
        "print(\"\\n Train set:\\n\", train.isnull().sum())\n",
        "print(\"\\n Test set:\\n\",test.isnull().sum())"
      ],
      "execution_count": null,
      "outputs": [
        {
          "output_type": "stream",
          "text": [
            "------ Null Values ------\n",
            "\n",
            " Train set:\n",
            " id             0\n",
            "keyword       61\n",
            "location    2533\n",
            "text           0\n",
            "target         0\n",
            "dtype: int64\n",
            "\n",
            " Test set:\n",
            " id             0\n",
            "keyword       26\n",
            "location    1105\n",
            "text           0\n",
            "dtype: int64\n"
          ],
          "name": "stdout"
        }
      ]
    },
    {
      "cell_type": "markdown",
      "metadata": {
        "id": "uFd5BUbxEaWv"
      },
      "source": [
        "### Keywords:"
      ]
    },
    {
      "cell_type": "code",
      "metadata": {
        "id": "G8-JOHOYCVE7",
        "outputId": "6ac96265-256f-4601-d590-c2e41b7c66bf",
        "colab": {
          "base_uri": "https://localhost:8080/",
          "height": 34
        }
      },
      "source": [
        "print(train.keyword.nunique(),test.keyword.nunique())"
      ],
      "execution_count": null,
      "outputs": [
        {
          "output_type": "stream",
          "text": [
            "221 221\n"
          ],
          "name": "stdout"
        }
      ]
    },
    {
      "cell_type": "code",
      "metadata": {
        "id": "w9_ydPxuClX-",
        "outputId": "ede06f31-dcc2-46ee-9bdb-a8963784b081",
        "colab": {
          "base_uri": "https://localhost:8080/",
          "height": 513
        }
      },
      "source": [
        "#Most common keywords:\n",
        "plt.figure(figsize=(10,8))\n",
        "sns.countplot(y=train.keyword, order = train.keyword.value_counts().iloc[:20].index)\n",
        "plt.title('--- Top 20 Keywords ---')\n",
        "plt.show()"
      ],
      "execution_count": null,
      "outputs": [
        {
          "output_type": "display_data",
          "data": {
            "image/png": "[encoded data removed]",
            "text/plain": [
              "<Figure size 720x576 with 1 Axes>"
            ]
          },
          "metadata": {
            "tags": [],
            "needs_background": "light"
          }
        }
      ]
    },
    {
      "cell_type": "code",
      "metadata": {
        "id": "PnTvyXgEEqNT",
        "outputId": "bf11adff-0b39-44d9-ebe8-8af6cffb8319",
        "colab": {
          "base_uri": "https://localhost:8080/",
          "height": 438
        }
      },
      "source": [
        "kw_d = train[train.target==1].keyword.value_counts().head(10)\n",
        "kw_nd = train[train.target==0].keyword.value_counts().head(10)\n",
        "\n",
        "plt.figure(figsize=(13,5))\n",
        "plt.subplot(121)\n",
        "sns.barplot(kw_d, kw_d.index, color='r')\n",
        "plt.title('Top keywords for disaster tweets')\n",
        "plt.subplot(122)\n",
        "sns.barplot(kw_nd, kw_nd.index, color='c')\n",
        "plt.title('Top keywords for non-disaster tweets')\n",
        "plt.show()"
      ],
      "execution_count": null,
      "outputs": [
        {
          "output_type": "stream",
          "text": [
            "/usr/local/lib/python3.6/dist-packages/seaborn/_decorators.py:43: FutureWarning: Pass the following variables as keyword args: x, y. From version 0.12, the only valid positional argument will be `data`, and passing other arguments without an explicit keyword will result in an error or misinterpretation.\n",
            "  FutureWarning\n",
            "/usr/local/lib/python3.6/dist-packages/seaborn/_decorators.py:43: FutureWarning: Pass the following variables as keyword args: x, y. From version 0.12, the only valid positional argument will be `data`, and passing other arguments without an explicit keyword will result in an error or misinterpretation.\n",
            "  FutureWarning\n"
          ],
          "name": "stderr"
        },
        {
          "output_type": "display_data",
          "data": {
            "image/png": "[encoded data removed]",
            "text/plain": [
              "<Figure size 936x360 with 2 Axes>"
            ]
          },
          "metadata": {
            "tags": [],
            "needs_background": "light"
          }
        }
      ]
    },
    {
      "cell_type": "markdown",
      "metadata": {
        "id": "6QJazK6fGvYw"
      },
      "source": [
        "### Locations:"
      ]
    },
    {
      "cell_type": "code",
      "metadata": {
        "id": "lH05iLwEE-0s",
        "outputId": "1c113f70-cd51-4292-cbfe-f2a3a85548f2",
        "colab": {
          "base_uri": "https://localhost:8080/",
          "height": 34
        }
      },
      "source": [
        "print (train.location.nunique(), test.location.nunique())"
      ],
      "execution_count": null,
      "outputs": [
        {
          "output_type": "stream",
          "text": [
            "3341 1602\n"
          ],
          "name": "stdout"
        }
      ]
    },
    {
      "cell_type": "code",
      "metadata": {
        "id": "Xp8wA8QKGyYf",
        "outputId": "34c6ff5b-38ce-4290-b1a2-761097648f61",
        "colab": {
          "base_uri": "https://localhost:8080/",
          "height": 513
        }
      },
      "source": [
        "# Most common locations\n",
        "plt.figure(figsize=(10,8))\n",
        "sns.countplot(y=train.location, order = train.location.value_counts().iloc[:20].index)\n",
        "plt.title('------ Top 20 locations ------')\n",
        "plt.show()"
      ],
      "execution_count": null,
      "outputs": [
        {
          "output_type": "display_data",
          "data": {
            "image/png": "[encoded data removed]",
            "text/plain": [
              "<Figure size 720x576 with 1 Axes>"
            ]
          },
          "metadata": {
            "tags": [],
            "needs_background": "light"
          }
        }
      ]
    },
    {
      "cell_type": "markdown",
      "metadata": {
        "id": "WMYVqTvXNNH9"
      },
      "source": [
        "## Text cleaning"
      ]
    },
    {
      "cell_type": "code",
      "metadata": {
        "id": "x7cuLlsBG5Aa",
        "outputId": "68953181-9569-4d7e-ba01-96a5a4347ff6",
        "colab": {
          "base_uri": "https://localhost:8080/"
        }
      },
      "source": [
        "import re\n",
        "from nltk import FreqDist, word_tokenize\n",
        "from nltk.corpus import stopwords\n",
        "import nltk\n",
        "import spacy\n",
        "sp = spacy.load('en_core_web_sm')\n",
        "nltk.download('stopwords')\n",
        "nltk.download('punkt')\n",
        "\n",
        "nltk_st = stopwords.words('english')\n",
        "\n",
        "\n"
      ],
      "execution_count": 7,
      "outputs": [
        {
          "output_type": "stream",
          "text": [
            "[nltk_data] Downloading package stopwords to /root/nltk_data...\n",
            "[nltk_data]   Unzipping corpora/stopwords.zip.\n",
            "[nltk_data] Downloading package punkt to /root/nltk_data...\n",
            "[nltk_data]   Unzipping tokenizers/punkt.zip.\n"
          ],
          "name": "stdout"
        }
      ]
    },
    {
      "cell_type": "code",
      "metadata": {
        "id": "fo7KT1EyCktX"
      },
      "source": [
        "def clean_text(text):\n",
        "    text = re.sub(r'https?://\\S+', '', text) # Remove link\n",
        "    text = re.sub(r'\\n',' ', text) # Remove line breaks\n",
        "    text = re.sub('\\s+', ' ', text).strip() # Remove leading, trailing, and extra spaces\n",
        "    text = [word for word in word_tokenize(text) if not word.lower() in nltk_st] #Removing stopwords\n",
        "    text = ' '.join(text)\n",
        "    lemmatized = [word.lemma_ for word in sp(text)] #Lemmatizing\n",
        "    text = ' '.join(lemmatized)\n",
        "    text = text.translate(str.maketrans('', '', string.punctuation)) #Remove punctuations\n",
        "    text = re.sub(\"\\s+\", ' ', text)  #Remove extra spaces\n",
        "\n",
        "    return text\n",
        "\n",
        "def find_hashtags(tweet):\n",
        "    return \" \".join([match.group(0)[1:] for match in re.finditer(r\"#\\w+\", tweet)]) or 'no'\n",
        "\n",
        "def find_mentions(tweet):\n",
        "    return \" \".join([match.group(0)[1:] for match in re.finditer(r\"@\\w+\", tweet)]) or 'no'\n",
        "\n",
        "def find_links(tweet):\n",
        "    return \" \".join([match.group(0)[:] for match in re.finditer(r\"https?://\\S+\", tweet)]) or 'no'\n",
        "\n",
        "def process_text(df):\n",
        "    \n",
        "    df['text_clean'] = df['text'].apply(lambda x: clean_text(x))\n",
        "    df['hashtags'] = df['text'].apply(lambda x: find_hashtags(x))\n",
        "    df['mentions'] = df['text'].apply(lambda x: find_mentions(x))\n",
        "    df['links'] = df['text'].apply(lambda x: find_links(x))\n",
        "    \n",
        "    return df\n",
        "    \n",
        "train = process_text(train)\n",
        "test = process_text(test)\n",
        "\n",
        "for df in [train, test]:\n",
        "    df.drop(columns = ['location', 'keyword', 'id'], inplace = True)"
      ],
      "execution_count": 14,
      "outputs": []
    },
    {
      "cell_type": "code",
      "metadata": {
        "id": "Kdck2-HEOlmF",
        "outputId": "12fefce5-3ee6-4872-db34-f87348618d67",
        "colab": {
          "base_uri": "https://localhost:8080/",
          "height": 195
        }
      },
      "source": [
        "train.head()"
      ],
      "execution_count": 15,
      "outputs": [
        {
          "output_type": "execute_result",
          "data": {
            "text/html": [
              "<div>\n",
              "<style scoped>\n",
              "    .dataframe tbody tr th:only-of-type {\n",
              "        vertical-align: middle;\n",
              "    }\n",
              "\n",
              "    .dataframe tbody tr th {\n",
              "        vertical-align: top;\n",
              "    }\n",
              "\n",
              "    .dataframe thead th {\n",
              "        text-align: right;\n",
              "    }\n",
              "</style>\n",
              "<table border=\"1\" class=\"dataframe\">\n",
              "  <thead>\n",
              "    <tr style=\"text-align: right;\">\n",
              "      <th></th>\n",
              "      <th>text</th>\n",
              "      <th>target</th>\n",
              "      <th>text_clean</th>\n",
              "      <th>hashtags</th>\n",
              "      <th>mentions</th>\n",
              "      <th>links</th>\n",
              "    </tr>\n",
              "  </thead>\n",
              "  <tbody>\n",
              "    <tr>\n",
              "      <th>0</th>\n",
              "      <td>Our Deeds are the Reason of this #earthquake M...</td>\n",
              "      <td>1</td>\n",
              "      <td>Deeds Reason earthquake May allah forgive PRON</td>\n",
              "      <td>earthquake</td>\n",
              "      <td>no</td>\n",
              "      <td>no</td>\n",
              "    </tr>\n",
              "    <tr>\n",
              "      <th>1</th>\n",
              "      <td>Forest fire near La Ronge Sask. Canada</td>\n",
              "      <td>1</td>\n",
              "      <td>forest fire near La Ronge Sask Canada</td>\n",
              "      <td>no</td>\n",
              "      <td>no</td>\n",
              "      <td>no</td>\n",
              "    </tr>\n",
              "    <tr>\n",
              "      <th>2</th>\n",
              "      <td>All residents asked to 'shelter in place' are ...</td>\n",
              "      <td>1</td>\n",
              "      <td>resident ask shelter place notify officer evac...</td>\n",
              "      <td>no</td>\n",
              "      <td>no</td>\n",
              "      <td>no</td>\n",
              "    </tr>\n",
              "    <tr>\n",
              "      <th>3</th>\n",
              "      <td>13,000 people receive #wildfires evacuation or...</td>\n",
              "      <td>1</td>\n",
              "      <td>13000 people receive wildfire evacuation order...</td>\n",
              "      <td>wildfires</td>\n",
              "      <td>no</td>\n",
              "      <td>no</td>\n",
              "    </tr>\n",
              "    <tr>\n",
              "      <th>4</th>\n",
              "      <td>Just got sent this photo from Ruby #Alaska as ...</td>\n",
              "      <td>1</td>\n",
              "      <td>get send photo Ruby Alaska smoke wildfire pour...</td>\n",
              "      <td>Alaska wildfires</td>\n",
              "      <td>no</td>\n",
              "      <td>no</td>\n",
              "    </tr>\n",
              "  </tbody>\n",
              "</table>\n",
              "</div>"
            ],
            "text/plain": [
              "                                                text  target  ... mentions links\n",
              "0  Our Deeds are the Reason of this #earthquake M...       1  ...       no    no\n",
              "1             Forest fire near La Ronge Sask. Canada       1  ...       no    no\n",
              "2  All residents asked to 'shelter in place' are ...       1  ...       no    no\n",
              "3  13,000 people receive #wildfires evacuation or...       1  ...       no    no\n",
              "4  Just got sent this photo from Ruby #Alaska as ...       1  ...       no    no\n",
              "\n",
              "[5 rows x 6 columns]"
            ]
          },
          "metadata": {
            "tags": []
          },
          "execution_count": 15
        }
      ]
    },
    {
      "cell_type": "code",
      "metadata": {
        "id": "qQYLZlxaE3Pn",
        "outputId": "7855bc66-8702-4d3f-e655-b1b2586bd3b7",
        "colab": {
          "base_uri": "https://localhost:8080/",
          "height": 449
        }
      },
      "source": [
        "text = train.text_clean.str.cat(sep=' ')\n",
        "text_tokens = word_tokenize(text)\n",
        "tokens_without_sw = [word for word in text_tokens if not word in stopwords.words()]\n",
        "tokens_filtered = (\" \").join(tokens_without_sw)\n",
        "\n",
        "from wordcloud import WordCloud\n",
        "word_cloud = WordCloud(max_font_size=45, max_words=40,).generate(tokens_filtered)\n",
        "\n",
        "# Display the generated WordCloud:\n",
        "plt.figure(figsize=[15,9])\n",
        "plt.imshow(word_cloud,interpolation=\"bilinear\")\n",
        "plt.axis(\"off\")\n",
        "plt.show()"
      ],
      "execution_count": null,
      "outputs": [
        {
          "output_type": "display_data",
          "data": {
            "image/png": "[encoded data removed]",
            "text/plain": [
              "<Figure size 1080x648 with 1 Axes>"
            ]
          },
          "metadata": {
            "tags": [],
            "needs_background": "light"
          }
        }
      ]
    },
    {
      "cell_type": "code",
      "metadata": {
        "id": "h1saImpABLjW",
        "outputId": "bab8a6d6-f9a8-4b48-b85d-2c1a928d47b6",
        "colab": {
          "base_uri": "https://localhost:8080/"
        }
      },
      "source": [
        "!wget --quiet https://raw.githubusercontent.com/tensorflow/models/master/official/nlp/bert/tokenization.py\n",
        "!pip install sentencepiece"
      ],
      "execution_count": 23,
      "outputs": [
        {
          "output_type": "stream",
          "text": [
            "Collecting sentencepiece\n",
            "\u001b[?25l  Downloading https://files.pythonhosted.org/packages/e5/2d/6d4ca4bef9a67070fa1cac508606328329152b1df10bdf31fb6e4e727894/sentencepiece-0.1.94-cp36-cp36m-manylinux2014_x86_64.whl (1.1MB)\n",
            "\r\u001b[K     |▎                               | 10kB 19.6MB/s eta 0:00:01\r\u001b[K     |▋                               | 20kB 3.5MB/s eta 0:00:01\r\u001b[K     |▉                               | 30kB 4.6MB/s eta 0:00:01\r\u001b[K     |█▏                              | 40kB 4.9MB/s eta 0:00:01\r\u001b[K     |█▌                              | 51kB 4.0MB/s eta 0:00:01\r\u001b[K     |█▊                              | 61kB 4.5MB/s eta 0:00:01\r\u001b[K     |██                              | 71kB 4.9MB/s eta 0:00:01\r\u001b[K     |██▍                             | 81kB 5.3MB/s eta 0:00:01\r\u001b[K     |██▋                             | 92kB 5.7MB/s eta 0:00:01\r\u001b[K     |███                             | 102kB 5.5MB/s eta 0:00:01\r\u001b[K     |███▎                            | 112kB 5.5MB/s eta 0:00:01\r\u001b[K     |███▌                            | 122kB 5.5MB/s eta 0:00:01\r\u001b[K     |███▉                            | 133kB 5.5MB/s eta 0:00:01\r\u001b[K     |████▏                           | 143kB 5.5MB/s eta 0:00:01\r\u001b[K     |████▍                           | 153kB 5.5MB/s eta 0:00:01\r\u001b[K     |████▊                           | 163kB 5.5MB/s eta 0:00:01\r\u001b[K     |█████                           | 174kB 5.5MB/s eta 0:00:01\r\u001b[K     |█████▎                          | 184kB 5.5MB/s eta 0:00:01\r\u001b[K     |█████▋                          | 194kB 5.5MB/s eta 0:00:01\r\u001b[K     |█████▉                          | 204kB 5.5MB/s eta 0:00:01\r\u001b[K     |██████▏                         | 215kB 5.5MB/s eta 0:00:01\r\u001b[K     |██████▌                         | 225kB 5.5MB/s eta 0:00:01\r\u001b[K     |██████▊                         | 235kB 5.5MB/s eta 0:00:01\r\u001b[K     |███████                         | 245kB 5.5MB/s eta 0:00:01\r\u001b[K     |███████▍                        | 256kB 5.5MB/s eta 0:00:01\r\u001b[K     |███████▋                        | 266kB 5.5MB/s eta 0:00:01\r\u001b[K     |████████                        | 276kB 5.5MB/s eta 0:00:01\r\u001b[K     |████████▎                       | 286kB 5.5MB/s eta 0:00:01\r\u001b[K     |████████▌                       | 296kB 5.5MB/s eta 0:00:01\r\u001b[K     |████████▉                       | 307kB 5.5MB/s eta 0:00:01\r\u001b[K     |█████████                       | 317kB 5.5MB/s eta 0:00:01\r\u001b[K     |█████████▍                      | 327kB 5.5MB/s eta 0:00:01\r\u001b[K     |█████████▊                      | 337kB 5.5MB/s eta 0:00:01\r\u001b[K     |██████████                      | 348kB 5.5MB/s eta 0:00:01\r\u001b[K     |██████████▎                     | 358kB 5.5MB/s eta 0:00:01\r\u001b[K     |██████████▋                     | 368kB 5.5MB/s eta 0:00:01\r\u001b[K     |██████████▉                     | 378kB 5.5MB/s eta 0:00:01\r\u001b[K     |███████████▏                    | 389kB 5.5MB/s eta 0:00:01\r\u001b[K     |███████████▌                    | 399kB 5.5MB/s eta 0:00:01\r\u001b[K     |███████████▊                    | 409kB 5.5MB/s eta 0:00:01\r\u001b[K     |████████████                    | 419kB 5.5MB/s eta 0:00:01\r\u001b[K     |████████████▍                   | 430kB 5.5MB/s eta 0:00:01\r\u001b[K     |████████████▋                   | 440kB 5.5MB/s eta 0:00:01\r\u001b[K     |█████████████                   | 450kB 5.5MB/s eta 0:00:01\r\u001b[K     |█████████████▎                  | 460kB 5.5MB/s eta 0:00:01\r\u001b[K     |█████████████▌                  | 471kB 5.5MB/s eta 0:00:01\r\u001b[K     |█████████████▉                  | 481kB 5.5MB/s eta 0:00:01\r\u001b[K     |██████████████                  | 491kB 5.5MB/s eta 0:00:01\r\u001b[K     |██████████████▍                 | 501kB 5.5MB/s eta 0:00:01\r\u001b[K     |██████████████▊                 | 512kB 5.5MB/s eta 0:00:01\r\u001b[K     |███████████████                 | 522kB 5.5MB/s eta 0:00:01\r\u001b[K     |███████████████▎                | 532kB 5.5MB/s eta 0:00:01\r\u001b[K     |███████████████▋                | 542kB 5.5MB/s eta 0:00:01\r\u001b[K     |███████████████▉                | 552kB 5.5MB/s eta 0:00:01\r\u001b[K     |████████████████▏               | 563kB 5.5MB/s eta 0:00:01\r\u001b[K     |████████████████▌               | 573kB 5.5MB/s eta 0:00:01\r\u001b[K     |████████████████▊               | 583kB 5.5MB/s eta 0:00:01\r\u001b[K     |█████████████████               | 593kB 5.5MB/s eta 0:00:01\r\u001b[K     |█████████████████▍              | 604kB 5.5MB/s eta 0:00:01\r\u001b[K     |█████████████████▋              | 614kB 5.5MB/s eta 0:00:01\r\u001b[K     |██████████████████              | 624kB 5.5MB/s eta 0:00:01\r\u001b[K     |██████████████████▏             | 634kB 5.5MB/s eta 0:00:01\r\u001b[K     |██████████████████▌             | 645kB 5.5MB/s eta 0:00:01\r\u001b[K     |██████████████████▉             | 655kB 5.5MB/s eta 0:00:01\r\u001b[K     |███████████████████             | 665kB 5.5MB/s eta 0:00:01\r\u001b[K     |███████████████████▍            | 675kB 5.5MB/s eta 0:00:01\r\u001b[K     |███████████████████▊            | 686kB 5.5MB/s eta 0:00:01\r\u001b[K     |████████████████████            | 696kB 5.5MB/s eta 0:00:01\r\u001b[K     |████████████████████▎           | 706kB 5.5MB/s eta 0:00:01\r\u001b[K     |████████████████████▋           | 716kB 5.5MB/s eta 0:00:01\r\u001b[K     |████████████████████▉           | 727kB 5.5MB/s eta 0:00:01\r\u001b[K     |█████████████████████▏          | 737kB 5.5MB/s eta 0:00:01\r\u001b[K     |█████████████████████▌          | 747kB 5.5MB/s eta 0:00:01\r\u001b[K     |█████████████████████▊          | 757kB 5.5MB/s eta 0:00:01\r\u001b[K     |██████████████████████          | 768kB 5.5MB/s eta 0:00:01\r\u001b[K     |██████████████████████▎         | 778kB 5.5MB/s eta 0:00:01\r\u001b[K     |██████████████████████▋         | 788kB 5.5MB/s eta 0:00:01\r\u001b[K     |███████████████████████         | 798kB 5.5MB/s eta 0:00:01\r\u001b[K     |███████████████████████▏        | 808kB 5.5MB/s eta 0:00:01\r\u001b[K     |███████████████████████▌        | 819kB 5.5MB/s eta 0:00:01\r\u001b[K     |███████████████████████▉        | 829kB 5.5MB/s eta 0:00:01\r\u001b[K     |████████████████████████        | 839kB 5.5MB/s eta 0:00:01\r\u001b[K     |████████████████████████▍       | 849kB 5.5MB/s eta 0:00:01\r\u001b[K     |████████████████████████▊       | 860kB 5.5MB/s eta 0:00:01\r\u001b[K     |█████████████████████████       | 870kB 5.5MB/s eta 0:00:01\r\u001b[K     |█████████████████████████▎      | 880kB 5.5MB/s eta 0:00:01\r\u001b[K     |█████████████████████████▋      | 890kB 5.5MB/s eta 0:00:01\r\u001b[K     |█████████████████████████▉      | 901kB 5.5MB/s eta 0:00:01\r\u001b[K     |██████████████████████████▏     | 911kB 5.5MB/s eta 0:00:01\r\u001b[K     |██████████████████████████▌     | 921kB 5.5MB/s eta 0:00:01\r\u001b[K     |██████████████████████████▊     | 931kB 5.5MB/s eta 0:00:01\r\u001b[K     |███████████████████████████     | 942kB 5.5MB/s eta 0:00:01\r\u001b[K     |███████████████████████████▎    | 952kB 5.5MB/s eta 0:00:01\r\u001b[K     |███████████████████████████▋    | 962kB 5.5MB/s eta 0:00:01\r\u001b[K     |████████████████████████████    | 972kB 5.5MB/s eta 0:00:01\r\u001b[K     |████████████████████████████▏   | 983kB 5.5MB/s eta 0:00:01\r\u001b[K     |████████████████████████████▌   | 993kB 5.5MB/s eta 0:00:01\r\u001b[K     |████████████████████████████▉   | 1.0MB 5.5MB/s eta 0:00:01\r\u001b[K     |█████████████████████████████   | 1.0MB 5.5MB/s eta 0:00:01\r\u001b[K     |█████████████████████████████▍  | 1.0MB 5.5MB/s eta 0:00:01\r\u001b[K     |█████████████████████████████▊  | 1.0MB 5.5MB/s eta 0:00:01\r\u001b[K     |██████████████████████████████  | 1.0MB 5.5MB/s eta 0:00:01\r\u001b[K     |██████████████████████████████▎ | 1.1MB 5.5MB/s eta 0:00:01\r\u001b[K     |██████████████████████████████▋ | 1.1MB 5.5MB/s eta 0:00:01\r\u001b[K     |██████████████████████████████▉ | 1.1MB 5.5MB/s eta 0:00:01\r\u001b[K     |███████████████████████████████▏| 1.1MB 5.5MB/s eta 0:00:01\r\u001b[K     |███████████████████████████████▍| 1.1MB 5.5MB/s eta 0:00:01\r\u001b[K     |███████████████████████████████▊| 1.1MB 5.5MB/s eta 0:00:01\r\u001b[K     |████████████████████████████████| 1.1MB 5.5MB/s \n",
            "\u001b[?25hInstalling collected packages: sentencepiece\n",
            "Successfully installed sentencepiece-0.1.94\n"
          ],
          "name": "stdout"
        }
      ]
    },
    {
      "cell_type": "code",
      "metadata": {
        "id": "xdV_lBkyBMMs",
        "outputId": "ba78c44f-f703-4c40-bdc6-121a3865d0f6",
        "colab": {
          "base_uri": "https://localhost:8080/"
        }
      },
      "source": [
        "import tokenization\n",
        "FullTokenizer = tokenization.FullTokenizer\n",
        "#Configuring BERT tokenizer\n",
        "BERT_MODEL_HUB = 'https://tfhub.dev/tensorflow/bert_en_uncased_L-12_H-768_A-12/2'\n",
        "bert_layer = hub.KerasLayer(BERT_MODEL_HUB, trainable=True)  #Train on own dataset, hence trainable=True\n",
        "to_lower_case = bert_layer.resolved_object.do_lower_case.numpy()\n",
        "vocabulary_file = bert_layer.resolved_object.vocab_file.asset_path.numpy()\n",
        "tokenizer = FullTokenizer(vocabulary_file, to_lower_case)\n",
        "\n",
        "print(\"Bert Tokenizer ready!\")"
      ],
      "execution_count": 27,
      "outputs": [
        {
          "output_type": "stream",
          "text": [
            "Bert Tokenizer ready!\n"
          ],
          "name": "stdout"
        }
      ]
    },
    {
      "cell_type": "code",
      "metadata": {
        "id": "JVudDtjdBMqU"
      },
      "source": [
        "def tokenize_tweets(text_):\n",
        "    return tokenizer.convert_tokens_to_ids(['[CLS]'] + tokenizer.tokenize(text_) + ['[SEP]'])"
      ],
      "execution_count": 30,
      "outputs": []
    },
    {
      "cell_type": "code",
      "metadata": {
        "id": "aCFiduEkIj1q"
      },
      "source": [
        "train['tokenized_tweets'] = train.text_clean.apply(lambda x: tokenize_tweets(x))\n",
        "test['tokenized_tweets'] = test.text_clean.apply(lambda x: tokenize_tweets(x))"
      ],
      "execution_count": 31,
      "outputs": []
    },
    {
      "cell_type": "code",
      "metadata": {
        "id": "fdm5XgQ-J_y8",
        "outputId": "17d583ee-75d0-4d13-8444-559468fda071",
        "colab": {
          "base_uri": "https://localhost:8080/",
          "height": 195
        }
      },
      "source": [
        "train.head()"
      ],
      "execution_count": 32,
      "outputs": [
        {
          "output_type": "execute_result",
          "data": {
            "text/html": [
              "<div>\n",
              "<style scoped>\n",
              "    .dataframe tbody tr th:only-of-type {\n",
              "        vertical-align: middle;\n",
              "    }\n",
              "\n",
              "    .dataframe tbody tr th {\n",
              "        vertical-align: top;\n",
              "    }\n",
              "\n",
              "    .dataframe thead th {\n",
              "        text-align: right;\n",
              "    }\n",
              "</style>\n",
              "<table border=\"1\" class=\"dataframe\">\n",
              "  <thead>\n",
              "    <tr style=\"text-align: right;\">\n",
              "      <th></th>\n",
              "      <th>text</th>\n",
              "      <th>target</th>\n",
              "      <th>text_clean</th>\n",
              "      <th>hashtags</th>\n",
              "      <th>mentions</th>\n",
              "      <th>links</th>\n",
              "      <th>tokenized_tweets</th>\n",
              "    </tr>\n",
              "  </thead>\n",
              "  <tbody>\n",
              "    <tr>\n",
              "      <th>0</th>\n",
              "      <td>Our Deeds are the Reason of this #earthquake M...</td>\n",
              "      <td>1</td>\n",
              "      <td>Deeds Reason earthquake May allah forgive PRON</td>\n",
              "      <td>earthquake</td>\n",
              "      <td>no</td>\n",
              "      <td>no</td>\n",
              "      <td>[101, 15616, 3114, 8372, 2089, 16455, 9641, 40...</td>\n",
              "    </tr>\n",
              "    <tr>\n",
              "      <th>1</th>\n",
              "      <td>Forest fire near La Ronge Sask. Canada</td>\n",
              "      <td>1</td>\n",
              "      <td>forest fire near La Ronge Sask Canada</td>\n",
              "      <td>no</td>\n",
              "      <td>no</td>\n",
              "      <td>no</td>\n",
              "      <td>[101, 3224, 2543, 2379, 2474, 6902, 3351, 2187...</td>\n",
              "    </tr>\n",
              "    <tr>\n",
              "      <th>2</th>\n",
              "      <td>All residents asked to 'shelter in place' are ...</td>\n",
              "      <td>1</td>\n",
              "      <td>resident ask shelter place notify officer evac...</td>\n",
              "      <td>no</td>\n",
              "      <td>no</td>\n",
              "      <td>no</td>\n",
              "      <td>[101, 6319, 3198, 7713, 2173, 2025, 8757, 2961...</td>\n",
              "    </tr>\n",
              "    <tr>\n",
              "      <th>3</th>\n",
              "      <td>13,000 people receive #wildfires evacuation or...</td>\n",
              "      <td>1</td>\n",
              "      <td>13000 people receive wildfire evacuation order...</td>\n",
              "      <td>wildfires</td>\n",
              "      <td>no</td>\n",
              "      <td>no</td>\n",
              "      <td>[101, 19527, 2692, 2111, 4374, 3748, 10273, 13...</td>\n",
              "    </tr>\n",
              "    <tr>\n",
              "      <th>4</th>\n",
              "      <td>Just got sent this photo from Ruby #Alaska as ...</td>\n",
              "      <td>1</td>\n",
              "      <td>get send photo Ruby Alaska smoke wildfire pour...</td>\n",
              "      <td>Alaska wildfires</td>\n",
              "      <td>no</td>\n",
              "      <td>no</td>\n",
              "      <td>[101, 2131, 4604, 6302, 10090, 7397, 5610, 374...</td>\n",
              "    </tr>\n",
              "  </tbody>\n",
              "</table>\n",
              "</div>"
            ],
            "text/plain": [
              "                                                text  ...                                   tokenized_tweets\n",
              "0  Our Deeds are the Reason of this #earthquake M...  ...  [101, 15616, 3114, 8372, 2089, 16455, 9641, 40...\n",
              "1             Forest fire near La Ronge Sask. Canada  ...  [101, 3224, 2543, 2379, 2474, 6902, 3351, 2187...\n",
              "2  All residents asked to 'shelter in place' are ...  ...  [101, 6319, 3198, 7713, 2173, 2025, 8757, 2961...\n",
              "3  13,000 people receive #wildfires evacuation or...  ...  [101, 19527, 2692, 2111, 4374, 3748, 10273, 13...\n",
              "4  Just got sent this photo from Ruby #Alaska as ...  ...  [101, 2131, 4604, 6302, 10090, 7397, 5610, 374...\n",
              "\n",
              "[5 rows x 7 columns]"
            ]
          },
          "metadata": {
            "tags": []
          },
          "execution_count": 32
        }
      ]
    },
    {
      "cell_type": "code",
      "metadata": {
        "id": "9Q7j0W8gKBo2",
        "outputId": "01f76e73-218d-4a36-cb50-d5e28a8a91e0",
        "colab": {
          "base_uri": "https://localhost:8080/",
          "height": 195
        }
      },
      "source": [
        "test.head()"
      ],
      "execution_count": 33,
      "outputs": [
        {
          "output_type": "execute_result",
          "data": {
            "text/html": [
              "<div>\n",
              "<style scoped>\n",
              "    .dataframe tbody tr th:only-of-type {\n",
              "        vertical-align: middle;\n",
              "    }\n",
              "\n",
              "    .dataframe tbody tr th {\n",
              "        vertical-align: top;\n",
              "    }\n",
              "\n",
              "    .dataframe thead th {\n",
              "        text-align: right;\n",
              "    }\n",
              "</style>\n",
              "<table border=\"1\" class=\"dataframe\">\n",
              "  <thead>\n",
              "    <tr style=\"text-align: right;\">\n",
              "      <th></th>\n",
              "      <th>text</th>\n",
              "      <th>text_clean</th>\n",
              "      <th>hashtags</th>\n",
              "      <th>mentions</th>\n",
              "      <th>links</th>\n",
              "      <th>tokenized_tweets</th>\n",
              "    </tr>\n",
              "  </thead>\n",
              "  <tbody>\n",
              "    <tr>\n",
              "      <th>0</th>\n",
              "      <td>Just happened a terrible car crash</td>\n",
              "      <td>happen terrible car crash</td>\n",
              "      <td>no</td>\n",
              "      <td>no</td>\n",
              "      <td>no</td>\n",
              "      <td>[101, 4148, 6659, 2482, 5823, 102]</td>\n",
              "    </tr>\n",
              "    <tr>\n",
              "      <th>1</th>\n",
              "      <td>Heard about #earthquake is different cities, s...</td>\n",
              "      <td>hear earthquake different city stay safe every...</td>\n",
              "      <td>earthquake</td>\n",
              "      <td>no</td>\n",
              "      <td>no</td>\n",
              "      <td>[101, 2963, 8372, 2367, 2103, 2994, 3647, 3071...</td>\n",
              "    </tr>\n",
              "    <tr>\n",
              "      <th>2</th>\n",
              "      <td>there is a forest fire at spot pond, geese are...</td>\n",
              "      <td>forest fire spot pond geese flee across street...</td>\n",
              "      <td>no</td>\n",
              "      <td>no</td>\n",
              "      <td>no</td>\n",
              "      <td>[101, 3224, 2543, 3962, 8644, 28519, 10574, 24...</td>\n",
              "    </tr>\n",
              "    <tr>\n",
              "      <th>3</th>\n",
              "      <td>Apocalypse lighting. #Spokane #wildfires</td>\n",
              "      <td>apocalypse lighting Spokane wildfire</td>\n",
              "      <td>Spokane wildfires</td>\n",
              "      <td>no</td>\n",
              "      <td>no</td>\n",
              "      <td>[101, 16976, 7497, 21878, 3748, 10273, 102]</td>\n",
              "    </tr>\n",
              "    <tr>\n",
              "      <th>4</th>\n",
              "      <td>Typhoon Soudelor kills 28 in China and Taiwan</td>\n",
              "      <td>Typhoon Soudelor kill 28 China Taiwan</td>\n",
              "      <td>no</td>\n",
              "      <td>no</td>\n",
              "      <td>no</td>\n",
              "      <td>[101, 15393, 2061, 12672, 10626, 3102, 2654, 2...</td>\n",
              "    </tr>\n",
              "  </tbody>\n",
              "</table>\n",
              "</div>"
            ],
            "text/plain": [
              "                                                text  ...                                   tokenized_tweets\n",
              "0                 Just happened a terrible car crash  ...                 [101, 4148, 6659, 2482, 5823, 102]\n",
              "1  Heard about #earthquake is different cities, s...  ...  [101, 2963, 8372, 2367, 2103, 2994, 3647, 3071...\n",
              "2  there is a forest fire at spot pond, geese are...  ...  [101, 3224, 2543, 3962, 8644, 28519, 10574, 24...\n",
              "3           Apocalypse lighting. #Spokane #wildfires  ...        [101, 16976, 7497, 21878, 3748, 10273, 102]\n",
              "4      Typhoon Soudelor kills 28 in China and Taiwan  ...  [101, 15393, 2061, 12672, 10626, 3102, 2654, 2...\n",
              "\n",
              "[5 rows x 6 columns]"
            ]
          },
          "metadata": {
            "tags": []
          },
          "execution_count": 33
        }
      ]
    },
    {
      "cell_type": "code",
      "metadata": {
        "id": "15uYy271KD9T"
      },
      "source": [
        "max1 = len(max(train.tokenized_tweets, key = len))\n",
        "max2 = len(max(test.tokenized_tweets, key = len))\n",
        "max_len = max(max1,max2)\n",
        "\n",
        "train['padded_tweets'] = train.tokenized_tweets.apply(lambda x: x + [0] * (max_len - len(x)))\n",
        "test['padded_tweets'] = test.tokenized_tweets.apply(lambda x: x + [0] * (max_len - len(x)))"
      ],
      "execution_count": 37,
      "outputs": []
    },
    {
      "cell_type": "code",
      "metadata": {
        "id": "OwEWRBt7LwnP",
        "outputId": "7ca8828d-7d7b-4c89-b3a1-c98ddd649c24",
        "colab": {
          "base_uri": "https://localhost:8080/",
          "height": 279
        }
      },
      "source": [
        "train.head()"
      ],
      "execution_count": 38,
      "outputs": [
        {
          "output_type": "execute_result",
          "data": {
            "text/html": [
              "<div>\n",
              "<style scoped>\n",
              "    .dataframe tbody tr th:only-of-type {\n",
              "        vertical-align: middle;\n",
              "    }\n",
              "\n",
              "    .dataframe tbody tr th {\n",
              "        vertical-align: top;\n",
              "    }\n",
              "\n",
              "    .dataframe thead th {\n",
              "        text-align: right;\n",
              "    }\n",
              "</style>\n",
              "<table border=\"1\" class=\"dataframe\">\n",
              "  <thead>\n",
              "    <tr style=\"text-align: right;\">\n",
              "      <th></th>\n",
              "      <th>text</th>\n",
              "      <th>target</th>\n",
              "      <th>text_clean</th>\n",
              "      <th>hashtags</th>\n",
              "      <th>mentions</th>\n",
              "      <th>links</th>\n",
              "      <th>tokenized_tweets</th>\n",
              "      <th>padded_tweets</th>\n",
              "    </tr>\n",
              "  </thead>\n",
              "  <tbody>\n",
              "    <tr>\n",
              "      <th>0</th>\n",
              "      <td>Our Deeds are the Reason of this #earthquake M...</td>\n",
              "      <td>1</td>\n",
              "      <td>Deeds Reason earthquake May allah forgive PRON</td>\n",
              "      <td>earthquake</td>\n",
              "      <td>no</td>\n",
              "      <td>no</td>\n",
              "      <td>[101, 15616, 3114, 8372, 2089, 16455, 9641, 40...</td>\n",
              "      <td>[101, 15616, 3114, 8372, 2089, 16455, 9641, 40...</td>\n",
              "    </tr>\n",
              "    <tr>\n",
              "      <th>1</th>\n",
              "      <td>Forest fire near La Ronge Sask. Canada</td>\n",
              "      <td>1</td>\n",
              "      <td>forest fire near La Ronge Sask Canada</td>\n",
              "      <td>no</td>\n",
              "      <td>no</td>\n",
              "      <td>no</td>\n",
              "      <td>[101, 3224, 2543, 2379, 2474, 6902, 3351, 2187...</td>\n",
              "      <td>[101, 3224, 2543, 2379, 2474, 6902, 3351, 2187...</td>\n",
              "    </tr>\n",
              "    <tr>\n",
              "      <th>2</th>\n",
              "      <td>All residents asked to 'shelter in place' are ...</td>\n",
              "      <td>1</td>\n",
              "      <td>resident ask shelter place notify officer evac...</td>\n",
              "      <td>no</td>\n",
              "      <td>no</td>\n",
              "      <td>no</td>\n",
              "      <td>[101, 6319, 3198, 7713, 2173, 2025, 8757, 2961...</td>\n",
              "      <td>[101, 6319, 3198, 7713, 2173, 2025, 8757, 2961...</td>\n",
              "    </tr>\n",
              "    <tr>\n",
              "      <th>3</th>\n",
              "      <td>13,000 people receive #wildfires evacuation or...</td>\n",
              "      <td>1</td>\n",
              "      <td>13000 people receive wildfire evacuation order...</td>\n",
              "      <td>wildfires</td>\n",
              "      <td>no</td>\n",
              "      <td>no</td>\n",
              "      <td>[101, 19527, 2692, 2111, 4374, 3748, 10273, 13...</td>\n",
              "      <td>[101, 19527, 2692, 2111, 4374, 3748, 10273, 13...</td>\n",
              "    </tr>\n",
              "    <tr>\n",
              "      <th>4</th>\n",
              "      <td>Just got sent this photo from Ruby #Alaska as ...</td>\n",
              "      <td>1</td>\n",
              "      <td>get send photo Ruby Alaska smoke wildfire pour...</td>\n",
              "      <td>Alaska wildfires</td>\n",
              "      <td>no</td>\n",
              "      <td>no</td>\n",
              "      <td>[101, 2131, 4604, 6302, 10090, 7397, 5610, 374...</td>\n",
              "      <td>[101, 2131, 4604, 6302, 10090, 7397, 5610, 374...</td>\n",
              "    </tr>\n",
              "  </tbody>\n",
              "</table>\n",
              "</div>"
            ],
            "text/plain": [
              "                                                text  ...                                      padded_tweets\n",
              "0  Our Deeds are the Reason of this #earthquake M...  ...  [101, 15616, 3114, 8372, 2089, 16455, 9641, 40...\n",
              "1             Forest fire near La Ronge Sask. Canada  ...  [101, 3224, 2543, 2379, 2474, 6902, 3351, 2187...\n",
              "2  All residents asked to 'shelter in place' are ...  ...  [101, 6319, 3198, 7713, 2173, 2025, 8757, 2961...\n",
              "3  13,000 people receive #wildfires evacuation or...  ...  [101, 19527, 2692, 2111, 4374, 3748, 10273, 13...\n",
              "4  Just got sent this photo from Ruby #Alaska as ...  ...  [101, 2131, 4604, 6302, 10090, 7397, 5610, 374...\n",
              "\n",
              "[5 rows x 8 columns]"
            ]
          },
          "metadata": {
            "tags": []
          },
          "execution_count": 38
        }
      ]
    },
    {
      "cell_type": "code",
      "metadata": {
        "id": "7wvemvyAL9lJ",
        "outputId": "f72197d5-4c03-453f-e1e6-0370e68636e5",
        "colab": {
          "base_uri": "https://localhost:8080/",
          "height": 279
        }
      },
      "source": [
        "test.head()"
      ],
      "execution_count": 39,
      "outputs": [
        {
          "output_type": "execute_result",
          "data": {
            "text/html": [
              "<div>\n",
              "<style scoped>\n",
              "    .dataframe tbody tr th:only-of-type {\n",
              "        vertical-align: middle;\n",
              "    }\n",
              "\n",
              "    .dataframe tbody tr th {\n",
              "        vertical-align: top;\n",
              "    }\n",
              "\n",
              "    .dataframe thead th {\n",
              "        text-align: right;\n",
              "    }\n",
              "</style>\n",
              "<table border=\"1\" class=\"dataframe\">\n",
              "  <thead>\n",
              "    <tr style=\"text-align: right;\">\n",
              "      <th></th>\n",
              "      <th>text</th>\n",
              "      <th>text_clean</th>\n",
              "      <th>hashtags</th>\n",
              "      <th>mentions</th>\n",
              "      <th>links</th>\n",
              "      <th>tokenized_tweets</th>\n",
              "      <th>padded_tweets</th>\n",
              "    </tr>\n",
              "  </thead>\n",
              "  <tbody>\n",
              "    <tr>\n",
              "      <th>0</th>\n",
              "      <td>Just happened a terrible car crash</td>\n",
              "      <td>happen terrible car crash</td>\n",
              "      <td>no</td>\n",
              "      <td>no</td>\n",
              "      <td>no</td>\n",
              "      <td>[101, 4148, 6659, 2482, 5823, 102]</td>\n",
              "      <td>[101, 4148, 6659, 2482, 5823, 102, 0, 0, 0, 0,...</td>\n",
              "    </tr>\n",
              "    <tr>\n",
              "      <th>1</th>\n",
              "      <td>Heard about #earthquake is different cities, s...</td>\n",
              "      <td>hear earthquake different city stay safe every...</td>\n",
              "      <td>earthquake</td>\n",
              "      <td>no</td>\n",
              "      <td>no</td>\n",
              "      <td>[101, 2963, 8372, 2367, 2103, 2994, 3647, 3071...</td>\n",
              "      <td>[101, 2963, 8372, 2367, 2103, 2994, 3647, 3071...</td>\n",
              "    </tr>\n",
              "    <tr>\n",
              "      <th>2</th>\n",
              "      <td>there is a forest fire at spot pond, geese are...</td>\n",
              "      <td>forest fire spot pond geese flee across street...</td>\n",
              "      <td>no</td>\n",
              "      <td>no</td>\n",
              "      <td>no</td>\n",
              "      <td>[101, 3224, 2543, 3962, 8644, 28519, 10574, 24...</td>\n",
              "      <td>[101, 3224, 2543, 3962, 8644, 28519, 10574, 24...</td>\n",
              "    </tr>\n",
              "    <tr>\n",
              "      <th>3</th>\n",
              "      <td>Apocalypse lighting. #Spokane #wildfires</td>\n",
              "      <td>apocalypse lighting Spokane wildfire</td>\n",
              "      <td>Spokane wildfires</td>\n",
              "      <td>no</td>\n",
              "      <td>no</td>\n",
              "      <td>[101, 16976, 7497, 21878, 3748, 10273, 102]</td>\n",
              "      <td>[101, 16976, 7497, 21878, 3748, 10273, 102, 0,...</td>\n",
              "    </tr>\n",
              "    <tr>\n",
              "      <th>4</th>\n",
              "      <td>Typhoon Soudelor kills 28 in China and Taiwan</td>\n",
              "      <td>Typhoon Soudelor kill 28 China Taiwan</td>\n",
              "      <td>no</td>\n",
              "      <td>no</td>\n",
              "      <td>no</td>\n",
              "      <td>[101, 15393, 2061, 12672, 10626, 3102, 2654, 2...</td>\n",
              "      <td>[101, 15393, 2061, 12672, 10626, 3102, 2654, 2...</td>\n",
              "    </tr>\n",
              "  </tbody>\n",
              "</table>\n",
              "</div>"
            ],
            "text/plain": [
              "                                                text  ...                                      padded_tweets\n",
              "0                 Just happened a terrible car crash  ...  [101, 4148, 6659, 2482, 5823, 102, 0, 0, 0, 0,...\n",
              "1  Heard about #earthquake is different cities, s...  ...  [101, 2963, 8372, 2367, 2103, 2994, 3647, 3071...\n",
              "2  there is a forest fire at spot pond, geese are...  ...  [101, 3224, 2543, 3962, 8644, 28519, 10574, 24...\n",
              "3           Apocalypse lighting. #Spokane #wildfires  ...  [101, 16976, 7497, 21878, 3748, 10273, 102, 0,...\n",
              "4      Typhoon Soudelor kills 28 in China and Taiwan  ...  [101, 15393, 2061, 12672, 10626, 3102, 2654, 2...\n",
              "\n",
              "[5 rows x 7 columns]"
            ]
          },
          "metadata": {
            "tags": []
          },
          "execution_count": 39
        }
      ]
    },
    {
      "cell_type": "markdown",
      "metadata": {
        "id": "xT5QycadMFSV"
      },
      "source": [
        "**Building the Model:**"
      ]
    },
    {
      "cell_type": "code",
      "metadata": {
        "id": "QMCM4rhSMCid"
      },
      "source": [
        "class TweetClassifier:\n",
        "    \n",
        "    def __init__(self, tokenizer, bert_layer, max_len, lr = 0.0001,\n",
        "                 epochs = 15, batch_size = 32,\n",
        "                 activation = 'sigmoid', optimizer = 'Adam',\n",
        "                 beta_1=0.9, beta_2=0.999, epsilon=1e-07,\n",
        "                 metrics = 'accuracy', loss = 'binary_crossentropy'):\n",
        "        \n",
        "        self.lr = lr\n",
        "        self.epochs = epochs\n",
        "        self.max_len = max_len\n",
        "        self.batch_size = batch_size\n",
        "        self.tokenizer = tokenizer\n",
        "        self.bert_layer = bert_layer\n",
        "        \n",
        "\n",
        "        self.activation = activation\n",
        "        self.optimizer = optimizer\n",
        "        \n",
        "        self.beta_1 = beta_1\n",
        "        self.beta_2 = beta_2\n",
        "        self.epsilon =epsilon\n",
        "        \n",
        "        self.metrics = metrics\n",
        "        self.loss = loss\n",
        "\n",
        "        \n",
        "    def encode(self, texts):  #Tokenization, Padding, general processing of text is performed here\n",
        "        \n",
        "        all_tokens = []\n",
        "        masks = []\n",
        "        segments = []\n",
        "        \n",
        "        for text in texts:\n",
        "            \n",
        "            tokenized = self.tokenizer.convert_tokens_to_ids(['[CLS]'] + self.tokenizer.tokenize(text) + ['[SEP]'])            \n",
        "            len_zeros = self.max_len - len(tokenized)            \n",
        "            \n",
        "            padded = tokenized + [0] * len_zeros\n",
        "\n",
        "            #Bert requires 2 more params as inputs\n",
        "            mask = [1] * len(tokenized) + [0] * len_zeros  \n",
        "            segment = [0] * self.max_len\n",
        "            \n",
        "            all_tokens.append(padded)\n",
        "            masks.append(mask)\n",
        "            segments.append(segment)\n",
        "        \n",
        "        return np.array(all_tokens), np.array(masks), np.array(segments)\n",
        "\n",
        "\n",
        "    def make_model(self):\n",
        "        \n",
        "        # Shaping the inputs to our model\n",
        "        \n",
        "        input_ids = Input(shape = (self.max_len, ), dtype = tf.int32, name = 'input_ids')        \n",
        "        input_mask = Input(shape = (self.max_len, ), dtype = tf.int32, name = 'input_mask')        \n",
        "        segment_ids = Input(shape = (self.max_len, ), dtype = tf.int32,  name = 'segment_ids')\n",
        "\n",
        "        #Sequence output gives the embeddings of each word in a sentence\n",
        "        pooled_output, sequence_output = bert_layer([input_ids, input_mask, segment_ids] )  \n",
        "\n",
        "\n",
        "        clf_output = sequence_output[:, 0, :]   #First token embedding   \n",
        "        dense1 = tf.keras.layers.Dense(16, activation=tf.keras.activations.sigmoid, use_bias=True)(clf_output)     \n",
        "        out = tf.keras.layers.Dense(1, activation = self.activation)(dense1)       \n",
        "        model = Model(inputs = [input_ids, input_mask, segment_ids], outputs = out)\n",
        "        \n",
        "        # define the optimizer\n",
        "\n",
        "        if self.optimizer is 'SGD':\n",
        "            optimizer = SGD(learning_rate = self.lr)\n",
        "\n",
        "        elif self.optimizer is 'Adam': \n",
        "            optimizer = Adam(learning_rate = self.lr, beta_1=self.beta_1, beta_2=self.beta_2, epsilon=self.epsilon)\n",
        "\n",
        "        model.compile(loss = self.loss, optimizer = self.optimizer, metrics = [self.metrics])\n",
        "        \n",
        "        print('Model is compiled with {} optimizer'.format(self.optimizer))\n",
        "        \n",
        "        return model\n",
        "    \n",
        "    \n",
        "    \n",
        "    \n",
        "    def train(self, x):    \n",
        "        \n",
        "        checkpoint = ModelCheckpoint('model.h5', monitor='val_loss', save_best_only=True)     \n",
        "        \n",
        "        model = self.make_model()\n",
        "        \n",
        "        X = self.encode(x['text_clean'])\n",
        "        Y = x['target']\n",
        "        \n",
        "        model.fit(X, Y, shuffle = True, validation_split = 0.2, \n",
        "                  batch_size=self.batch_size, epochs = self.epochs,\n",
        "                  callbacks=[checkpoint])\n",
        "                \n",
        "        print('Model is fit!')\n",
        "        \n",
        "            \n",
        "    def predict(self, x):\n",
        "        \n",
        "        X_test_encoded = self.encode(x['text_clean'])\n",
        "        best_model = tf.keras.models.load_model('model.h5',custom_objects={'KerasLayer':hub.KerasLayer})\n",
        "        y_pred = best_model.predict(X_test_encoded)\n",
        "        \n",
        "        \n",
        "        return y_pred"
      ],
      "execution_count": 66,
      "outputs": []
    },
    {
      "cell_type": "code",
      "metadata": {
        "id": "zW1_H3ogXL5J",
        "outputId": "3fbe97cb-fc73-4e82-a962-9d6ed19ef808",
        "colab": {
          "base_uri": "https://localhost:8080/",
          "height": 195
        }
      },
      "source": [
        "cleaned_train = train[['target','text_clean']]\n",
        "cleaned_train.tail()"
      ],
      "execution_count": 59,
      "outputs": [
        {
          "output_type": "execute_result",
          "data": {
            "text/html": [
              "<div>\n",
              "<style scoped>\n",
              "    .dataframe tbody tr th:only-of-type {\n",
              "        vertical-align: middle;\n",
              "    }\n",
              "\n",
              "    .dataframe tbody tr th {\n",
              "        vertical-align: top;\n",
              "    }\n",
              "\n",
              "    .dataframe thead th {\n",
              "        text-align: right;\n",
              "    }\n",
              "</style>\n",
              "<table border=\"1\" class=\"dataframe\">\n",
              "  <thead>\n",
              "    <tr style=\"text-align: right;\">\n",
              "      <th></th>\n",
              "      <th>target</th>\n",
              "      <th>text_clean</th>\n",
              "    </tr>\n",
              "  </thead>\n",
              "  <tbody>\n",
              "    <tr>\n",
              "      <th>7608</th>\n",
              "      <td>1</td>\n",
              "      <td>two giant crane hold bridge collapse nearby home</td>\n",
              "    </tr>\n",
              "    <tr>\n",
              "      <th>7609</th>\n",
              "      <td>1</td>\n",
              "      <td>ariaahrary TheTawniest control wild fire Cali...</td>\n",
              "    </tr>\n",
              "    <tr>\n",
              "      <th>7610</th>\n",
              "      <td>1</td>\n",
              "      <td>M194 0104 UTC 5 km Volcano Hawaii</td>\n",
              "    </tr>\n",
              "    <tr>\n",
              "      <th>7611</th>\n",
              "      <td>1</td>\n",
              "      <td>Police investigate e bike collide car Little P...</td>\n",
              "    </tr>\n",
              "    <tr>\n",
              "      <th>7612</th>\n",
              "      <td>1</td>\n",
              "      <td>late home raze Northern California Wildfire AB...</td>\n",
              "    </tr>\n",
              "  </tbody>\n",
              "</table>\n",
              "</div>"
            ],
            "text/plain": [
              "      target                                         text_clean\n",
              "7608       1   two giant crane hold bridge collapse nearby home\n",
              "7609       1   ariaahrary TheTawniest control wild fire Cali...\n",
              "7610       1                 M194 0104 UTC 5 km Volcano Hawaii \n",
              "7611       1  Police investigate e bike collide car Little P...\n",
              "7612       1  late home raze Northern California Wildfire AB..."
            ]
          },
          "metadata": {
            "tags": []
          },
          "execution_count": 59
        }
      ]
    },
    {
      "cell_type": "code",
      "metadata": {
        "id": "Xai23S_3Z4dQ",
        "outputId": "bfdc48bf-ea08-4a82-b937-5411fd9e0a39",
        "colab": {
          "base_uri": "https://localhost:8080/",
          "height": 195
        }
      },
      "source": [
        "cleaned_test = test[['text_clean']]\n",
        "cleaned_test.tail()"
      ],
      "execution_count": 60,
      "outputs": [
        {
          "output_type": "execute_result",
          "data": {
            "text/html": [
              "<div>\n",
              "<style scoped>\n",
              "    .dataframe tbody tr th:only-of-type {\n",
              "        vertical-align: middle;\n",
              "    }\n",
              "\n",
              "    .dataframe tbody tr th {\n",
              "        vertical-align: top;\n",
              "    }\n",
              "\n",
              "    .dataframe thead th {\n",
              "        text-align: right;\n",
              "    }\n",
              "</style>\n",
              "<table border=\"1\" class=\"dataframe\">\n",
              "  <thead>\n",
              "    <tr style=\"text-align: right;\">\n",
              "      <th></th>\n",
              "      <th>text_clean</th>\n",
              "    </tr>\n",
              "  </thead>\n",
              "  <tbody>\n",
              "    <tr>\n",
              "      <th>3258</th>\n",
              "      <td>earthquake SAFETY LOS ANGELES ûò safety faste...</td>\n",
              "    </tr>\n",
              "    <tr>\n",
              "      <th>3259</th>\n",
              "      <td>storm ri bad last hurricane city amp 3others h...</td>\n",
              "    </tr>\n",
              "    <tr>\n",
              "      <th>3260</th>\n",
              "      <td>Green Line derailment Chicago</td>\n",
              "    </tr>\n",
              "    <tr>\n",
              "      <th>3261</th>\n",
              "      <td>MEG issue Hazardous Weather Outlook HWO</td>\n",
              "    </tr>\n",
              "    <tr>\n",
              "      <th>3262</th>\n",
              "      <td>CityofCalgary activate Municipal Emergency Pl...</td>\n",
              "    </tr>\n",
              "  </tbody>\n",
              "</table>\n",
              "</div>"
            ],
            "text/plain": [
              "                                             text_clean\n",
              "3258  earthquake SAFETY LOS ANGELES ûò safety faste...\n",
              "3259  storm ri bad last hurricane city amp 3others h...\n",
              "3260                      Green Line derailment Chicago\n",
              "3261           MEG issue Hazardous Weather Outlook HWO \n",
              "3262   CityofCalgary activate Municipal Emergency Pl..."
            ]
          },
          "metadata": {
            "tags": []
          },
          "execution_count": 60
        }
      ]
    },
    {
      "cell_type": "code",
      "metadata": {
        "id": "v4Hj4l3oXZaX"
      },
      "source": [
        "classifier = TweetClassifier(tokenizer = tokenizer, bert_layer = bert_layer,\n",
        "                              max_len = max_len, lr = 0.0001,\n",
        "                              epochs = 15,  activation = 'sigmoid',\n",
        "                              batch_size = 32,optimizer = 'SGD',\n",
        "                              beta_1=0.9, beta_2=0.999, epsilon=1e-07)"
      ],
      "execution_count": 67,
      "outputs": []
    },
    {
      "cell_type": "code",
      "metadata": {
        "id": "gFi-W5v_X5rF",
        "outputId": "117e9219-36ea-4b82-80d3-6c34f32e0744",
        "colab": {
          "base_uri": "https://localhost:8080/"
        }
      },
      "source": [
        "classifier.train(cleaned_train)"
      ],
      "execution_count": 68,
      "outputs": [
        {
          "output_type": "stream",
          "text": [
            "Model is compiled with SGD optimizer\n",
            "Epoch 1/15\n",
            "191/191 [==============================] - 73s 384ms/step - loss: 0.6860 - accuracy: 0.5626 - val_loss: 0.6958 - val_accuracy: 0.5345\n",
            "Epoch 2/15\n",
            "191/191 [==============================] - 72s 378ms/step - loss: 0.6815 - accuracy: 0.5793 - val_loss: 0.7006 - val_accuracy: 0.5345\n",
            "Epoch 3/15\n",
            "191/191 [==============================] - 72s 379ms/step - loss: 0.6815 - accuracy: 0.5793 - val_loss: 0.6994 - val_accuracy: 0.5345\n",
            "Epoch 4/15\n",
            "191/191 [==============================] - 72s 379ms/step - loss: 0.6813 - accuracy: 0.5793 - val_loss: 0.6959 - val_accuracy: 0.5345\n",
            "Epoch 5/15\n",
            "191/191 [==============================] - 72s 378ms/step - loss: 0.6807 - accuracy: 0.5793 - val_loss: 0.6990 - val_accuracy: 0.5345\n",
            "Epoch 6/15\n",
            "191/191 [==============================] - 74s 388ms/step - loss: 0.6814 - accuracy: 0.5793 - val_loss: 0.6937 - val_accuracy: 0.5345\n",
            "Epoch 7/15\n",
            "191/191 [==============================] - 72s 379ms/step - loss: 0.6812 - accuracy: 0.5793 - val_loss: 0.6985 - val_accuracy: 0.5345\n",
            "Epoch 8/15\n",
            "191/191 [==============================] - 73s 380ms/step - loss: 0.6810 - accuracy: 0.5793 - val_loss: 0.6946 - val_accuracy: 0.5345\n",
            "Epoch 9/15\n",
            "191/191 [==============================] - 72s 379ms/step - loss: 0.6813 - accuracy: 0.5793 - val_loss: 0.6948 - val_accuracy: 0.5345\n",
            "Epoch 10/15\n",
            "191/191 [==============================] - 72s 379ms/step - loss: 0.6811 - accuracy: 0.5793 - val_loss: 0.6968 - val_accuracy: 0.5345\n",
            "Epoch 11/15\n",
            "191/191 [==============================] - 72s 379ms/step - loss: 0.6809 - accuracy: 0.5793 - val_loss: 0.6949 - val_accuracy: 0.5345\n",
            "Epoch 12/15\n",
            "191/191 [==============================] - 73s 380ms/step - loss: 0.6813 - accuracy: 0.5793 - val_loss: 0.6975 - val_accuracy: 0.5345\n",
            "Epoch 13/15\n",
            "191/191 [==============================] - 73s 380ms/step - loss: 0.6808 - accuracy: 0.5793 - val_loss: 0.6974 - val_accuracy: 0.5345\n",
            "Epoch 14/15\n",
            "191/191 [==============================] - 72s 379ms/step - loss: 0.6807 - accuracy: 0.5793 - val_loss: 0.6977 - val_accuracy: 0.5345\n",
            "Epoch 15/15\n",
            "191/191 [==============================] - 72s 379ms/step - loss: 0.6808 - accuracy: 0.5793 - val_loss: 0.6981 - val_accuracy: 0.5345\n",
            "Model is fit!\n"
          ],
          "name": "stdout"
        }
      ]
    },
    {
      "cell_type": "code",
      "metadata": {
        "id": "xphp2jpYYW4E",
        "outputId": "c501f7e8-b18b-4453-dadc-4449781ac33c",
        "colab": {
          "base_uri": "https://localhost:8080/",
          "height": 195
        }
      },
      "source": [
        "y_pred = np.round(classifier.predict(cleaned_test))\n",
        "sample_sub = pd.read_csv('sample_submission.csv')\n",
        "ids = sample_sub.id\n",
        "final_submission = pd.DataFrame(np.c_[ids, y_pred.astype('int')], columns = ['id', 'target'])\n",
        "final_submission.to_csv('final_submission.csv', index = False)\n",
        "final_submission.head()"
      ],
      "execution_count": 70,
      "outputs": [
        {
          "output_type": "execute_result",
          "data": {
            "text/html": [
              "<div>\n",
              "<style scoped>\n",
              "    .dataframe tbody tr th:only-of-type {\n",
              "        vertical-align: middle;\n",
              "    }\n",
              "\n",
              "    .dataframe tbody tr th {\n",
              "        vertical-align: top;\n",
              "    }\n",
              "\n",
              "    .dataframe thead th {\n",
              "        text-align: right;\n",
              "    }\n",
              "</style>\n",
              "<table border=\"1\" class=\"dataframe\">\n",
              "  <thead>\n",
              "    <tr style=\"text-align: right;\">\n",
              "      <th></th>\n",
              "      <th>id</th>\n",
              "      <th>target</th>\n",
              "    </tr>\n",
              "  </thead>\n",
              "  <tbody>\n",
              "    <tr>\n",
              "      <th>0</th>\n",
              "      <td>0</td>\n",
              "      <td>0</td>\n",
              "    </tr>\n",
              "    <tr>\n",
              "      <th>1</th>\n",
              "      <td>2</td>\n",
              "      <td>0</td>\n",
              "    </tr>\n",
              "    <tr>\n",
              "      <th>2</th>\n",
              "      <td>3</td>\n",
              "      <td>0</td>\n",
              "    </tr>\n",
              "    <tr>\n",
              "      <th>3</th>\n",
              "      <td>9</td>\n",
              "      <td>0</td>\n",
              "    </tr>\n",
              "    <tr>\n",
              "      <th>4</th>\n",
              "      <td>11</td>\n",
              "      <td>0</td>\n",
              "    </tr>\n",
              "  </tbody>\n",
              "</table>\n",
              "</div>"
            ],
            "text/plain": [
              "   id  target\n",
              "0   0       0\n",
              "1   2       0\n",
              "2   3       0\n",
              "3   9       0\n",
              "4  11       0"
            ]
          },
          "metadata": {
            "tags": []
          },
          "execution_count": 70
        }
      ]
    },
    {
      "cell_type": "code",
      "metadata": {
        "id": "s9Rap3-ZZVxc"
      },
      "source": [
        ""
      ],
      "execution_count": null,
      "outputs": []
    }
  ]
}